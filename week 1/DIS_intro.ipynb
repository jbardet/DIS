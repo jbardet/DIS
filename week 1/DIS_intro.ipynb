{
 "cells": [
  {
   "cell_type": "markdown",
   "metadata": {},
   "source": [
    "# Intro Exercise: Managing Taxi Trajectories"
   ]
  },
  {
   "cell_type": "markdown",
   "metadata": {},
   "source": [
    "In this exercise, we will implement a prototypical information system for managing trajectories.\n",
    "\n",
    "We assume that we manage sets of trajectories (of taxis).\n",
    "\n",
    "For testing, we have provided a dataset with trajectory data ($Lat x Long$) of one taxi.\n",
    "\n",
    "TaxiID| Timestamp            | Latitude    | Longitude\n",
    "------|----------------------|-------------|-----------\n",
    "1     | 2008-02-02 15:36:08  |  116.51172  | 39.92123\n",
    "1     | 2008-02-02 15:46:08  |  116.51135  | 39.93883\n",
    "1     | 2008-02-02 15:56:08  |  116.51627  | 39.91034\n",
    "\n",
    "In this exercise we will first understand the provided data, then model a trajectory and perform functions on top of it. Finally, we will integrate a different data source into the existing data. \n",
    "\n",
    "Two datasets are provided: **_taxi_log.txt_** and **_taxi_data_routes.csv_**."
   ]
  },
  {
   "cell_type": "code",
   "execution_count": null,
   "metadata": {
    "scrolled": false
   },
   "outputs": [],
   "source": [
    "# import libraries\n",
    "import numpy as np\n",
    "from datetime import datetime\n",
    "import pandas as pd\n",
    "\n",
    "# Import taxi data (taxi_log.txt)\n",
    "FILE = 'taxi_log.txt'\n",
    "dt = pd.read_csv(FILE, names = ['tid','timestamp','x','y'])\n",
    "dt"
   ]
  },
  {
   "cell_type": "markdown",
   "metadata": {},
   "source": [
    "### Data exploration\n",
    "\n",
    "Before starting implementing the modeling of the taxi trajectories, we will take a deeper look into the data by plotting the (lat, long) pairs. "
   ]
  },
  {
   "cell_type": "code",
   "execution_count": null,
   "metadata": {},
   "outputs": [],
   "source": [
    "# Visualize data\n",
    "import matplotlib.pyplot as plt\n",
    "\n",
    "%matplotlib inline\n",
    "\n",
    "x_l = list()\n",
    "y_l = list()\n",
    "\n",
    "for idx, row in dt.iterrows():\n",
    "    x_l.append(row['x'])\n",
    "    y_l.append(row['y'])\n",
    "\n",
    "x = np.array(x_l)\n",
    "y = np.array(y_l)\n",
    "\n",
    "plt.scatter(x, y)\n",
    "plt.show()"
   ]
  },
  {
   "cell_type": "markdown",
   "metadata": {},
   "source": [
    "## Question 1: Filter data\n",
    "\n",
    "Filter specific rows from the trajectory data that have latitude smaller than 116.5.\n",
    "\n",
    "_HINT: Use pandas Dataframe functions to filter specific rows from the Dataframe._"
   ]
  },
  {
   "cell_type": "code",
   "execution_count": null,
   "metadata": {},
   "outputs": [],
   "source": [
    "# --------- ADD YOUR CODE HERE -----------\n",
    "dt_filtered = dt[dt['x']<116.5]\n",
    "dt_filtered\n",
    "# ----------------------------------------"
   ]
  },
  {
   "cell_type": "markdown",
   "metadata": {},
   "source": [
    "## Question 2: Create trajectory model\n",
    "\n",
    "A trajectory $tr$ is modeled as a function from the time domain $T$ to the 2-dimensional coordinate domain $Long\\:x\\:Lat$. In general, the function can be represented by enumeration or as an algorithm.\n",
    "\n",
    "Below we define a Trajectory model that contains functions for adding a point, getting the point for a given timestamp, approximating a point, and extracting the sub-trajectories/trips.\n",
    "\n",
    "Based on the following class:\n",
    "\n",
    "1. Instantiate a Trajectory object given the input dataset\n",
    "\n",
    "2. Extract the trips of the created Trajectory object"
   ]
  },
  {
   "cell_type": "code",
   "execution_count": null,
   "metadata": {},
   "outputs": [],
   "source": [
    "# the default model\n",
    "class Trajectory:\n",
    "    def __init__(self):\n",
    "        \"\"\"\n",
    "        This class represents a trajectory.\n",
    "        \"\"\"\n",
    "        self.path = dict()  # dict[str, tuple], represent the trajectory function as a dictionary (of sample values)\n",
    "        self.timestamps = list()  # list[datetime.datetime] maintain sorted list of timestamps\n",
    "\n",
    "    def add_point(self, ts, coord):\n",
    "        \"\"\"\n",
    "        Adds a coordinate point in the Trajectory object.\n",
    "\n",
    "        :param ts: str, timestamp of the coordinates\n",
    "        :param coord: np.array, the coordinates\n",
    "        \"\"\"\n",
    "        self.path[ts] = coord\n",
    "        datetime_obj = datetime.strptime(ts, '%Y-%m-%d %H:%M:%S')\n",
    "        self.timestamps.append(datetime_obj)\n",
    "        self.timestamps.sort()\n",
    "\n",
    "    def get_location(self, ts):\n",
    "        \"\"\"\n",
    "        Returns the location for a given timestamp if it exists.\n",
    "\n",
    "        :param ts: str, the timestamp of the requested location\n",
    "        :return: np.array, of the coordinates\n",
    "        \"\"\"\n",
    "        return self.path.get(ts, None)\n",
    "\n",
    "    def get_interpolated_location(self, ts):\n",
    "        \"\"\"\n",
    "        Interpolates the positions, i.e. creating a new function in the model, based on data.\n",
    "\n",
    "        :param ts: str, the timestamp of the requested location\n",
    "        :return: np.array, of the coordinates of the interpolated location\n",
    "        \"\"\"\n",
    "        ts = datetime.strptime(ts, '%Y-%m-%d %H:%M:%S')\n",
    "\n",
    "        if self.timestamps[0] <= ts <= self.timestamps[-1]:\n",
    "            idx = bisect(self.timestamps, ts)  # get index of the input timestamp in the sorted path\n",
    "\n",
    "            # get neighbors based on the index\n",
    "            previous_ts = self.timestamps[idx - 1]\n",
    "            next_ts = self.timestamps[idx]\n",
    "\n",
    "            previous_point = self.path[previous_ts.strftime('%Y-%m-%d %H:%M:%S')]\n",
    "            next_point = self.path[next_ts.strftime('%Y-%m-%d %H:%M:%S')]\n",
    "\n",
    "            return previous_point + ((previous_point - next_point) / (next_ts - previous_ts).total_seconds()) * (\n",
    "                (ts - previous_ts).total_seconds())\n",
    "\n",
    "        return None\n",
    "\n",
    "    def extract_trips(self):\n",
    "        \"\"\"\n",
    "        Extracting trips, i.e., creating a new representation for trajectories.\n",
    "\n",
    "        :return: list of lists of np.arrays, with the [start, end] coordinates of the trips \n",
    "        \"\"\"         \n",
    "        trips = list()\n",
    "        on_trip = True\n",
    "        path = list(self.path.values())\n",
    "        start = path[0]  # get first element\n",
    "        for i in range(1, len(path)):\n",
    "            current_point = path[i]\n",
    "            previous_point = path[i-1]\n",
    "            \n",
    "            # compute euclidean distance\n",
    "            distance = np.sqrt((current_point[0] - previous_point[0]) ** 2 + (current_point[1] - previous_point[1]) ** 2)\n",
    "            \n",
    "            if distance < 0.001:\n",
    "                if on_trip:\n",
    "                    on_trip = False\n",
    "                    end = path[i]\n",
    "                    trips.append((start, end))\n",
    "            else:\n",
    "                if not on_trip:\n",
    "                    start = path[i + 1]\n",
    "                    on_trip = True\n",
    "\n",
    "        return trips"
   ]
  },
  {
   "cell_type": "code",
   "execution_count": null,
   "metadata": {},
   "outputs": [],
   "source": [
    "# transforming representation as pandas into trajectory object\n",
    "tr = Trajectory()\n",
    "for i, position in dt.iterrows():\n",
    "    # --------- ADD YOUR CODE HERE -----------\n",
    "    tr.add_point(position['timestamp'], np.array([position['x'], position['y']]))\n",
    "    # ----------------------------------------\n",
    "# compute the number of extracted trips\n",
    "# --------- ADD YOUR CODE HERE -----------\n",
    "tr.extract_trips()\n",
    "# ----------------------------------------"
   ]
  },
  {
   "cell_type": "markdown",
   "metadata": {},
   "source": [
    "## Question 3.1: Implement an alternative trajectory model\n",
    "\n",
    "In this question you need to implement an alternative representation of the trajectory as a sorted list of pairs for the `add_point()` and `get_location()` methods."
   ]
  },
  {
   "cell_type": "code",
   "execution_count": null,
   "metadata": {},
   "outputs": [],
   "source": [
    "class TrajectoryAlt:\n",
    "    def __init__(self):\n",
    "        # represent the trajectory function as a list of tuples\n",
    "        self.path = []\n",
    "\n",
    "    def add_point(self, ts, coord):\n",
    "        \"\"\"\n",
    "        Adds a coordinate point in the Trajectory object.\n",
    "\n",
    "        :param ts: str, timestamp of the coordinates\n",
    "        :param coord: np.array, the coordinates\n",
    "        \"\"\"\n",
    "        # --------- ADD YOUR CODE HERE -----------\n",
    "        self.path.append((ts, coord))\n",
    "        self.path = sorted(self.path, key=lambda tup: tup[0])\n",
    "        # ----------------------------------------\n",
    "\n",
    "    def get_location(self, ts):\n",
    "        \"\"\"\n",
    "        Returns the location for a given timestamp if it exists.\n",
    "\n",
    "        :param ts: str, the timestamp of the requested location\n",
    "        :return: np.array, of the coordinates\n",
    "        \"\"\"\n",
    "        # --------- ADD YOUR CODE HERE -----------\n",
    "        for point in self.path:\n",
    "            if point[0] == ts:\n",
    "                return point[1]\n",
    "        return None\n",
    "        # ----------------------------------------\n"
   ]
  },
  {
   "cell_type": "markdown",
   "metadata": {},
   "source": [
    "## Question 3.2: Compare models\n",
    "\n",
    "Compare the two implemented trajectory models in terms of performance. Try to interpret these performance differences.\n",
    "\n",
    "_HINT: Use the time python library to compute the elapsed time:_\n",
    "\n",
    "```\n",
    "start = time.time()\n",
    "<YOUR CODE>\n",
    "end = time.time()\n",
    "print(end - start)\n",
    "```"
   ]
  },
  {
   "cell_type": "code",
   "execution_count": null,
   "metadata": {},
   "outputs": [],
   "source": [
    "import time\n",
    "\n",
    "tr = Trajectory()\n",
    "tr_a = TrajectoryAlt()\n",
    "\n",
    "# TODO: Compare the performance of the models when adding points.\n",
    "# --------- ADD YOUR CODE HERE -----------\n",
    "\n",
    "start = time.time()\n",
    "for i, position in dt.iterrows():\n",
    "    tr.add_point(position['timestamp'], np.array([position['x'], position['y']]))\n",
    "end = time.time()\n",
    "print('Time for Trajectory:', end - start)\n",
    "# ----------------------------------------\n",
    "    \n",
    "# TODO: Compare the performance of the models when requesting a point.\n",
    "# --------- ADD YOUR CODE HERE -----------\n",
    "start = time.time()\n",
    "for i, position in dt.iterrows():\n",
    "    tr_a.add_point(position['timestamp'], np.array([position['x'], position['y']]))\n",
    "end = time.time()\n",
    "print('Time for Trajectory:', end - start)\n",
    "# ----------------------------------------\n"
   ]
  },
  {
   "cell_type": "markdown",
   "metadata": {},
   "source": [
    "## Question 4: Integrating data from a new source\n",
    "\n",
    "In this question, we will use another dataset that consists of taxi routes too. \n",
    "The goal is to integrate the new data source with the initial dataset into one consolidated dataset.\n",
    "\n",
    "The provided dataset consist of the routes/trips of one taxi (the one used in previous questions).\n",
    "\n",
    "route_id | taxi_id | passenger_count | start_point | end_point | route\n",
    "----------| ----------| ----------| ----------| ---------- | ------\n",
    "1 | 1 | 3 | (116.511, 39.921) | (116.691, 39.851) | [(116.511, 39.921), ... , (116.691, 39.851)]\n",
    "2 | 1 | 1 | (116.659, 39.885) | (116.691, 39.851) | [(116.659, 39.885), ... , (116.691, 39.851)]\n",
    "3 | 1 | 1 | (116.630, 39.904) | (116.691, 39.852) | [(116.630, 39.904), ... , (116.691, 39.852)]\n",
    "\n",
    "The goal is to create a consilidated dataset with the following columns:\n",
    "- **taxiID**: the taxi identificator\n",
    "- **timestamp**: the timestamp of a specific point\n",
    "- **latitude**: the latitude of the point\n",
    "- **longitude**: the longitude of the point\n",
    "- **routeID**: the route that the taxi was doing at that time\n",
    "- **passengers**: the number of passenger the route had\n",
    "\n",
    "_HINT: Since this data is in a different format, it needs to be mapped to the representation we have been using for the initial dataset._"
   ]
  },
  {
   "cell_type": "code",
   "execution_count": null,
   "metadata": {},
   "outputs": [],
   "source": [
    "# Import additional taxi data (taxi_data_routes.csv)\n",
    "import ast\n",
    "\n",
    "FILE = 'taxi_data_routes.csv'\n",
    "dt_new = pd.read_csv(FILE, names = ['route_id','taxi_id','passenger_count',\n",
    "                                    'start_point','end_point','route'], sep='|')\n",
    "dt_new['route'] = dt_new['route'].apply(lambda s: list(ast.literal_eval(s)))\n",
    "dt_new"
   ]
  },
  {
   "cell_type": "code",
   "execution_count": null,
   "metadata": {},
   "outputs": [],
   "source": [
    "dt"
   ]
  },
  {
   "cell_type": "code",
   "execution_count": null,
   "metadata": {},
   "outputs": [],
   "source": [
    "# TODO: Integrate the two data sources into one dataframe\n",
    "# HINT:\n",
    "# - first, expand the points of each route with the .explode pandas function\n",
    "# - second, merge the two dataframes\n",
    "# --------- ADD YOUR CODE HERE -----------\n",
    "dt_new = dt_new.explode('route')\n",
    "dt_new = dt_new.reset_index(drop=True)\n",
    "dt_new['x'] = dt_new['route'].apply(lambda point: point[0])\n",
    "dt_new['y'] = dt_new['route'].apply(lambda point: point[1])\n",
    "dt_new\n",
    "\n",
    "# ----------------------------------------"
   ]
  },
  {
   "cell_type": "code",
   "execution_count": null,
   "metadata": {},
   "outputs": [],
   "source": [
    "dt['x'] = round(dt['x'], 4)\n",
    "dt['y'] = round(dt['y'], 4)\n",
    "\n",
    "dt_new['x'] = round(dt_new['x'], 4)\n",
    "dt_new['y'] = round(dt_new['y'], 4)\n",
    "\n",
    "pd.merge(dt, dt_new,  how='left', left_on=['x','y'], right_on = ['x','y'])"
   ]
  },
  {
   "cell_type": "markdown",
   "metadata": {},
   "source": [
    "---\n",
    "\n",
    "## Additional material from the lecture\n",
    "\n",
    "In this section, we review some key points mentioned in the lecture regarding abstract models and homomorphism.\n",
    "\n",
    "Run the following examples to get a deeper understanding of these concepts."
   ]
  },
  {
   "cell_type": "markdown",
   "metadata": {},
   "source": [
    "#### Different datatypes representing the same model"
   ]
  },
  {
   "cell_type": "code",
   "execution_count": null,
   "metadata": {},
   "outputs": [],
   "source": [
    "dict_tr = {}\n",
    "dict_tr[0] = [0,0]\n",
    "dict_tr[1] = [1,0]\n",
    "dict_tr"
   ]
  },
  {
   "cell_type": "code",
   "execution_count": null,
   "metadata": {},
   "outputs": [],
   "source": [
    "list_tr = []\n",
    "list_tr.append([0,0])\n",
    "list_tr.append([1,0])\n",
    "list_tr"
   ]
  },
  {
   "cell_type": "code",
   "execution_count": null,
   "metadata": {},
   "outputs": [],
   "source": [
    "import pandas as pd\n",
    "d = {0: [0, 0], 1: [1, 0]}\n",
    "df = pd.DataFrame(data = d)\n",
    "df"
   ]
  },
  {
   "cell_type": "markdown",
   "metadata": {},
   "source": [
    "#### Representation and Homomorphisms\n",
    "\n",
    "A representation is a relationship among mathematical structures. One example of such a relationship is the relationship among a data structure and its encoding, e.g., as a string.\n",
    "\n",
    "In general a homomorphism is a mapping $H: X -> Y$ that satisfies for functions $f$ the property $H(f(x)) = f(H(x))$\n",
    "\n",
    "We define the following Python functions for determining the length of a list of records, once directly once in the encoded format.\n",
    "\n",
    "Verify by an example that the function is preserved under the mapping to a JSON encoding and thus the encoding is a homomorphism."
   ]
  },
  {
   "cell_type": "code",
   "execution_count": null,
   "metadata": {},
   "outputs": [],
   "source": [
    "import json\n",
    "\n",
    "result = dt.to_json(orient=\"records\")\n",
    "parsed = json.loads(result)"
   ]
  },
  {
   "cell_type": "code",
   "execution_count": null,
   "metadata": {},
   "outputs": [],
   "source": [
    "def R(X):\n",
    "    if type(X) == 'list':\n",
    "        return json.dumps(X)\n",
    "    if type(X) == 'int':\n",
    "        return X\n",
    "\n",
    "def length(l):\n",
    "    if isinstance(l,list):\n",
    "        return len(l)\n",
    "    if isinstance(l,str):\n",
    "        return l.count(\"],\")+1"
   ]
  },
  {
   "cell_type": "code",
   "execution_count": null,
   "metadata": {},
   "outputs": [],
   "source": [
    "R(length(result)) == length(R(result))"
   ]
  },
  {
   "cell_type": "markdown",
   "metadata": {},
   "source": [
    "#### Not every representation is an (exact) homomorphism"
   ]
  },
  {
   "cell_type": "code",
   "execution_count": null,
   "metadata": {},
   "outputs": [],
   "source": [
    "def timesteps(s, u, n):\n",
    "    print(s)\n",
    "    if n == 0:\n",
    "        return s\n",
    "    else:\n",
    "        return timesteps(s + u, u, n-1)"
   ]
  },
  {
   "cell_type": "code",
   "execution_count": null,
   "metadata": {},
   "outputs": [],
   "source": [
    "timesteps(0, 0.2, 10)"
   ]
  },
  {
   "cell_type": "markdown",
   "metadata": {},
   "source": [
    "What is going wrong. If $R: T -> float$ for mapping the time domain were an exact homomorphism, then for the function $timesteps: Start x Unit x NumberOfSteps -> End$ we would have:\n",
    "\n",
    "> $R(timesteps(s,u,n)) = timesteps(R(s),R(u),R(n))$\n",
    "\n",
    "If we take $s = 0$, $u = 0.2$ and $n = 10$, then the function $timesteps(0, 0.2, 10)$ evaluates to 2, and R(2) = 2.\n",
    "\n",
    "On the other hand, if we evaluate the above function implemented using floating point arithmetic, we obtain as result 1.9999999999999998, which is different."
   ]
  }
 ],
 "metadata": {
  "kernelspec": {
   "display_name": "Python 3",
   "language": "python",
   "name": "python3"
  },
  "language_info": {
   "codemirror_mode": {
    "name": "ipython",
    "version": 3
   },
   "file_extension": ".py",
   "mimetype": "text/x-python",
   "name": "python",
   "nbconvert_exporter": "python",
   "pygments_lexer": "ipython3",
   "version": "3.10.13"
  },
  "toc": {
   "base_numbering": 1,
   "nav_menu": {},
   "number_sections": true,
   "sideBar": true,
   "skip_h1_title": false,
   "title_cell": "Table of Contents",
   "title_sidebar": "Contents",
   "toc_cell": false,
   "toc_position": {},
   "toc_section_display": true,
   "toc_window_display": false
  }
 },
 "nbformat": 4,
 "nbformat_minor": 2
}
